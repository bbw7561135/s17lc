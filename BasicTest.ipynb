{
 "cells": [
  {
   "cell_type": "markdown",
   "metadata": {},
   "source": [
    "# Test my version of programs to make a Sarbadhicary model for Radio Luminosity"
   ]
  },
  {
   "cell_type": "code",
   "execution_count": 154,
   "metadata": {},
   "outputs": [
    {
     "data": {
      "text/plain": [
       "'/Users/long/Projects/Crete/sarbardhicary'"
      ]
     },
     "execution_count": 154,
     "metadata": {},
     "output_type": "execute_result"
    }
   ],
   "source": [
    "import os\n",
    "os.getcwd()"
   ]
  },
  {
   "cell_type": "code",
   "execution_count": 155,
   "metadata": {},
   "outputs": [],
   "source": [
    "import s17lc as snr"
   ]
  },
  {
   "cell_type": "code",
   "execution_count": 156,
   "metadata": {},
   "outputs": [
    {
     "data": {
      "text/plain": [
       "<module 's17lc' from 's17lc.pyc'>"
      ]
     },
     "execution_count": 156,
     "metadata": {},
     "output_type": "execute_result"
    }
   ],
   "source": [
    "reload(snr)"
   ]
  },
  {
   "cell_type": "code",
   "execution_count": 157,
   "metadata": {},
   "outputs": [
    {
     "name": "stdout",
     "output_type": "stream",
     "text": [
      "Help on module s17lc:\n",
      "\n",
      "NAME\n",
      "    s17lc\n",
      "\n",
      "FILE\n",
      "    /Users/long/Projects/Crete/sarbardhicary/s17lc.py\n",
      "\n",
      "DESCRIPTION\n",
      "    #~~~~~~~~~~~~~~~~~~~~~~~~~~~~~~~~~~~~~~~~~~~~~~~~~~~~~~#\n",
      "    #\n",
      "    # Light curve from paper. This is to make sure all the equations\n",
      "    # as they appear in the paper are consistent with my program.\n",
      "    #\n",
      "    #~~~~~~~~~~~~~~~~~~~~~~~~~~~~~~~~~~~~~~~~~~~~~~~~~~~~~~#\n",
      "\n",
      "FUNCTIONS\n",
      "    luminosity(rs, vs, n0, epse, p, nu)\n",
      "        Luminosity of SNR, given radius, velocity and other parameters\n",
      "        \n",
      "        (NOTE: the electron acceleration and magnetic field terms have a separate dependence\n",
      "               on ISM density, n0. The radius and velocity also depend on n0. So be careful about\n",
      "               pluggin in an arbitrary value of 'rs' and 'vs' and getting luminosity, because the\n",
      "               'rs' and 'vs' has to be consistent with 'n0'.)\n",
      "        \n",
      "        Parameters:\n",
      "        ----------\n",
      "        \n",
      "        rs: shock radius (in pc)\n",
      "        vs: shock velocity (in km/s)\n",
      "        n0: ISM density (in atoms/cc)\n",
      "        epse: electron acceleration efficiency \n",
      "        p: electron spectral index (stay within p=2.2-2.5)\n",
      "        nu: observing frequency (in GHz)\n",
      "    \n",
      "    radius_velocity(t, n0, mej, e51, sntype='cc')\n",
      "        Returns the shock radius and velocity for a given density, \n",
      "        energy and ejecta mass.\n",
      "        \n",
      "        Parameters:\n",
      "        ----------\n",
      "        \n",
      "        t : age of SNR (in years)\n",
      "        n0 : density (atoms/cc)\n",
      "        e51 : energy (in units of 10^51 ergs)\n",
      "        mej : ejecta mass (in units of Msun)\n",
      "        sntype : ['ia' or 'cc']\n",
      "\n",
      "\n"
     ]
    }
   ],
   "source": [
    "help(snr)"
   ]
  },
  {
   "cell_type": "code",
   "execution_count": 158,
   "metadata": {},
   "outputs": [
    {
     "name": "stdout",
     "output_type": "stream",
     "text": [
      "(6.086507306413825, 2503.078504139024)\n"
     ]
    }
   ],
   "source": [
    "age=1000\n",
    "n=1\n",
    "e51=1\n",
    "mej=3\n",
    "r,vel=snr.radius_velocity(age,n,e51,mej)\n",
    "print(r,vel)"
   ]
  },
  {
   "cell_type": "code",
   "execution_count": 159,
   "metadata": {},
   "outputs": [
    {
     "data": {
      "text/plain": [
       "524808896097.16583"
      ]
     },
     "execution_count": 159,
     "metadata": {},
     "output_type": "execute_result"
    }
   ],
   "source": [
    "epse=0.04\n",
    "p=2.3\n",
    "nu=1.4\n",
    "snr.luminosity(r,vel,n,epse,p,nu)"
   ]
  },
  {
   "cell_type": "markdown",
   "metadata": {},
   "source": [
    "## Now check that we can still handle np arrays\n",
    "\n",
    "Note that it is evident that from the inspection of the code that radius_velocity was written assuming one would give it individual values, wheras for the luminosity routine it expects np arrays.  It is unclear (but I suspect from looking at Sumit's example, that there is a requirement for the arrays to all have the same dimension, it is not entirely obvious that one is able to mix scalars and arrays, but probaly the answer is yes"
   ]
  },
  {
   "cell_type": "code",
   "execution_count": 160,
   "metadata": {},
   "outputs": [],
   "source": [
    "import numpy as np"
   ]
  },
  {
   "cell_type": "code",
   "execution_count": 161,
   "metadata": {},
   "outputs": [
    {
     "name": "stdout",
     "output_type": "stream",
     "text": [
      "(8.111849199739481, 1626.8476692237468)\n"
     ]
    }
   ],
   "source": [
    "age=2000\n",
    "n=1\n",
    "e51=1\n",
    "mej=3\n",
    "r,vel=snr.radius_velocity(age,n,e51,mej)\n",
    "print(r,vel)"
   ]
  },
  {
   "cell_type": "code",
   "execution_count": 162,
   "metadata": {},
   "outputs": [
    {
     "name": "stdout",
     "output_type": "stream",
     "text": [
      "(11.771955258637059, 930.5801574331996)\n"
     ]
    }
   ],
   "source": [
    "age=5000\n",
    "n=1\n",
    "e51=1\n",
    "mej=3\n",
    "r,vel=snr.radius_velocity(age,n,e51,mej)\n",
    "print(r,vel)"
   ]
  },
  {
   "cell_type": "code",
   "execution_count": 163,
   "metadata": {},
   "outputs": [],
   "source": [
    "age=np.array([1000,2000,5000])\n",
    "r=np.array([6.08,8.11,11.77])\n",
    "vel=np.array([2503.07,1626.8,930])"
   ]
  },
  {
   "cell_type": "code",
   "execution_count": 164,
   "metadata": {},
   "outputs": [
    {
     "data": {
      "text/plain": [
       "array([5.23688252e+11, 1.14351798e+12, 2.96034919e+12])"
      ]
     },
     "execution_count": 164,
     "metadata": {},
     "output_type": "execute_result"
    }
   ],
   "source": [
    "snr.luminosity(r,vel,n,epse,p,nu)"
   ]
  },
  {
   "cell_type": "markdown",
   "metadata": {},
   "source": [
    "So that does seem to work.  \n",
    "\n",
    "But from my perspective, a better routine would be one that had the same behavior for the two routines.  The easiest way to do this would be to remove the numpy aspects from snr.luminosity, so that it did not require np at all.  "
   ]
  },
  {
   "cell_type": "markdown",
   "metadata": {},
   "source": [
    "### Now test a new version of the code, where I have removed numpy arrays from the luminosity calcualtion\n",
    "\n",
    "This was done mainly to homogenize the way radius_velocity and luminosity operate"
   ]
  },
  {
   "cell_type": "code",
   "execution_count": 165,
   "metadata": {},
   "outputs": [
    {
     "data": {
      "text/plain": [
       "<module 'rsnr' from 'rsnr.py'>"
      ]
     },
     "execution_count": 165,
     "metadata": {},
     "output_type": "execute_result"
    }
   ],
   "source": [
    "import rsnr\n",
    "reload(rsnr)"
   ]
  },
  {
   "cell_type": "code",
   "execution_count": 166,
   "metadata": {},
   "outputs": [
    {
     "name": "stdout",
     "output_type": "stream",
     "text": [
      "   Age      R      v      L_r   \n",
      "--------- ----- ------- --------\n",
      "   100.00  0.91 6686.50 1.34e+25\n",
      "   115.14  1.02 6454.95 1.59e+25\n",
      "   132.57  1.13 6231.42 1.88e+25\n",
      "   152.64  1.25 6015.63 2.24e+25\n",
      "   175.75  1.39 5807.31 2.66e+25\n",
      "   202.36  1.55 5606.20 3.15e+25\n",
      "   233.00  1.72 5412.06 3.75e+25\n",
      "   268.27  1.91 5224.64 4.46e+25\n",
      "   308.88  2.13 5043.71 5.30e+25\n",
      "   355.65  2.37 4869.05 6.31e+25\n",
      "      ...   ...     ...      ...\n",
      " 24420.53 17.83  288.25 2.46e+24\n",
      " 28117.69 18.87  264.69 2.38e+24\n",
      " 32374.58 19.97  243.08 2.38e+24\n",
      " 37275.94 21.14  223.25 2.38e+24\n",
      " 42919.34 22.37  205.05 2.38e+24\n",
      " 49417.13 23.68  188.35 2.38e+24\n",
      " 56898.66 25.06  173.02 2.38e+24\n",
      " 65512.86 26.52  158.94 2.38e+24\n",
      " 75431.20 28.06  146.01 2.38e+24\n",
      " 86851.14 29.69  134.14 2.38e+24\n",
      "100000.00 31.42  123.23 2.38e+24\n",
      "Length = 50 rows\n"
     ]
    }
   ],
   "source": [
    "x=rsnr.do_one()\n",
    "print(x)"
   ]
  }
 ],
 "metadata": {
  "kernelspec": {
   "display_name": "Python [conda env:iraf27]",
   "language": "python",
   "name": "conda-env-iraf27-py"
  },
  "language_info": {
   "codemirror_mode": {
    "name": "ipython",
    "version": 2
   },
   "file_extension": ".py",
   "mimetype": "text/x-python",
   "name": "python",
   "nbconvert_exporter": "python",
   "pygments_lexer": "ipython2",
   "version": "2.7.16"
  }
 },
 "nbformat": 4,
 "nbformat_minor": 2
}
