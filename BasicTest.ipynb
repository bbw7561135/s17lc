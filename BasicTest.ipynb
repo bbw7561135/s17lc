{
 "cells": [
  {
   "cell_type": "code",
   "execution_count": 98,
   "metadata": {},
   "outputs": [],
   "source": [
    "import s17lc as snr"
   ]
  },
  {
   "cell_type": "code",
   "execution_count": 99,
   "metadata": {},
   "outputs": [
    {
     "data": {
      "text/plain": [
       "<module 's17lc' from 's17lc.pyc'>"
      ]
     },
     "execution_count": 99,
     "metadata": {},
     "output_type": "execute_result"
    }
   ],
   "source": [
    "reload(snr)"
   ]
  },
  {
   "cell_type": "code",
   "execution_count": 100,
   "metadata": {},
   "outputs": [
    {
     "name": "stdout",
     "output_type": "stream",
     "text": [
      "Help on module s17lc:\n",
      "\n",
      "NAME\n",
      "    s17lc\n",
      "\n",
      "FILE\n",
      "    /Users/long/Projects/Crete/sarbardhicary/s17lc.py\n",
      "\n",
      "DESCRIPTION\n",
      "    #~~~~~~~~~~~~~~~~~~~~~~~~~~~~~~~~~~~~~~~~~~~~~~~~~~~~~~#\n",
      "    #\n",
      "    # Light curve from paper. This is to make sure all the equations\n",
      "    # as they appear in the paper are consistent with my program.\n",
      "    #\n",
      "    #~~~~~~~~~~~~~~~~~~~~~~~~~~~~~~~~~~~~~~~~~~~~~~~~~~~~~~#\n",
      "\n",
      "FUNCTIONS\n",
      "    luminosity(rs, vs, n0, epse, p, nu)\n",
      "        Luminosity of SNR, given radius, velocity and other parameters\n",
      "        \n",
      "        (NOTE: the electron acceleration and magnetic field terms have a separate dependence\n",
      "               on ISM density, n0. The radius and velocity also depend on n0. So be careful about\n",
      "               pluggin in an arbitrary value of 'rs' and 'vs' and getting luminosity, because the\n",
      "               'rs' and 'vs' has to be consistent with 'n0'.)\n",
      "        \n",
      "        Parameters:\n",
      "        ----------\n",
      "        \n",
      "        rs: shock radius (in pc)\n",
      "        vs: shock velocity (in km/s)\n",
      "        n0: ISM density (in atoms/cc)\n",
      "        epse: electron acceleration efficiency \n",
      "        p: electron spectral index (stay within p=2.2-2.5)\n",
      "        nu: observing frequency (in GHz)\n",
      "    \n",
      "    radius_velocity(t, n0, mej, e51, sntype='cc')\n",
      "        Returns the shock radius and velocity for a given density, \n",
      "        energy and ejecta mass.\n",
      "        \n",
      "        Parameters:\n",
      "        ----------\n",
      "        \n",
      "        t : age of SNR (in years)\n",
      "        n0 : density (atoms/cc)\n",
      "        e51 : energy (in units of 10^51 ergs)\n",
      "        mej : ejecta mass (in units of Msun)\n",
      "        sntype : ['ia' or 'cc']\n",
      "\n",
      "\n"
     ]
    }
   ],
   "source": [
    "help(snr)"
   ]
  },
  {
   "cell_type": "code",
   "execution_count": 101,
   "metadata": {},
   "outputs": [
    {
     "name": "stdout",
     "output_type": "stream",
     "text": [
      "(6.086507306413825, 2503.078504139024)\n"
     ]
    }
   ],
   "source": [
    "age=1000\n",
    "n=1\n",
    "e51=1\n",
    "mej=3\n",
    "r,vel=snr.radius_velocity(age,n,e51,mej)\n",
    "print(r,vel)"
   ]
  },
  {
   "cell_type": "code",
   "execution_count": 102,
   "metadata": {},
   "outputs": [
    {
     "name": "stdout",
     "output_type": "stream",
     "text": [
      "150.7124168413855\n",
      "('Before', 0.28606862526207827)\n",
      "0.28606862526207827\n",
      "(array(0.00017411), 9e-06)\n"
     ]
    },
    {
     "data": {
      "text/plain": [
       "524808896097.16583"
      ]
     },
     "execution_count": 102,
     "metadata": {},
     "output_type": "execute_result"
    }
   ],
   "source": [
    "epse=0.04\n",
    "p=2.3\n",
    "nu=1.4\n",
    "snr.luminosity(r,vel,n,epse,p,nu)"
   ]
  },
  {
   "cell_type": "markdown",
   "metadata": {},
   "source": [
    "## Now check that we can still handle np arrays\n",
    "\n",
    "Note that it is evident that from the inspection of the code that radius_velocity was written assuming one would give it individual values, wheras for the luminosity routine it expects np arrays.  It is unclear (but I suspect from looking at Sumit's example, that there is a requirement for the arrays to all have the same dimension, it is not entirely obvious that one is able to mix scalars and arrays, but probaly the answer is yes"
   ]
  },
  {
   "cell_type": "code",
   "execution_count": 103,
   "metadata": {},
   "outputs": [],
   "source": [
    "import numpy as np"
   ]
  },
  {
   "cell_type": "code",
   "execution_count": 104,
   "metadata": {},
   "outputs": [
    {
     "name": "stdout",
     "output_type": "stream",
     "text": [
      "(8.111849199739481, 1626.8476692237468)\n"
     ]
    }
   ],
   "source": [
    "age=2000\n",
    "n=1\n",
    "e51=1\n",
    "mej=3\n",
    "r,vel=snr.radius_velocity(age,n,e51,mej)\n",
    "print(r,vel)"
   ]
  },
  {
   "cell_type": "code",
   "execution_count": 105,
   "metadata": {},
   "outputs": [],
   "source": [
    "age=np.array([1000,2000])\n",
    "r=np.array([6.08,8.11])\n",
    "vel=np.array([2503.07,1626.8])"
   ]
  },
  {
   "cell_type": "code",
   "execution_count": 106,
   "metadata": {},
   "outputs": [
    {
     "name": "stdout",
     "output_type": "stream",
     "text": [
      "[150.7119048  97.9509669]\n",
      "('Before', array([0.28606786, 0.20692645]))\n",
      "[0.28606786 0.20692645]\n",
      "(array([0.00017411, 0.0001156 ]), 9e-06)\n"
     ]
    },
    {
     "data": {
      "text/plain": [
       "array([5.23688252e+11, 1.14351798e+12])"
      ]
     },
     "execution_count": 106,
     "metadata": {},
     "output_type": "execute_result"
    }
   ],
   "source": [
    "snr.luminosity(r,vel,n,epse,p,nu)"
   ]
  },
  {
   "cell_type": "markdown",
   "metadata": {},
   "source": [
    "So that does seem to work.  \n",
    "\n",
    "But from my perspective, a better routine would be one that had the same behavior for the two routines.  The easiest way to do this would be to remove the numpy aspects from snr.luminosity, so that it did not require np at all.  "
   ]
  }
 ],
 "metadata": {
  "kernelspec": {
   "display_name": "Python [conda env:iraf27]",
   "language": "python",
   "name": "conda-env-iraf27-py"
  },
  "language_info": {
   "codemirror_mode": {
    "name": "ipython",
    "version": 2
   },
   "file_extension": ".py",
   "mimetype": "text/x-python",
   "name": "python",
   "nbconvert_exporter": "python",
   "pygments_lexer": "ipython2",
   "version": "2.7.16"
  }
 },
 "nbformat": 4,
 "nbformat_minor": 2
}
